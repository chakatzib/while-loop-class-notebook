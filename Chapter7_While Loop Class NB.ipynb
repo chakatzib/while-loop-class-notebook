{
 "cells": [
  {
   "cell_type": "markdown",
   "metadata": {},
   "source": [
    "# While Loop\n",
    "* The for loop takes a collection of items and executes a block of code once for each item in the collection. \n",
    "* In contrast, the while loop runs as long as, or while, a certain condition is true."
   ]
  },
  {
   "cell_type": "markdown",
   "metadata": {},
   "source": [
    "## The while Loop in Action\n",
    "You can use a while loop to count up through a series of numbers. For\n",
    "example, the following while loop counts from 1 to 5:\n"
   ]
  },
  {
   "cell_type": "code",
   "execution_count": 1,
   "metadata": {},
   "outputs": [
    {
     "name": "stdout",
     "output_type": "stream",
     "text": [
      "1\n",
      "2\n",
      "3\n",
      "4\n",
      "5\n"
     ]
    }
   ],
   "source": [
    "for i in range(1,6):\n",
    "    print(i)"
   ]
  },
  {
   "cell_type": "code",
   "execution_count": 5,
   "metadata": {},
   "outputs": [
    {
     "name": "stdout",
     "output_type": "stream",
     "text": [
      "1\n",
      "2\n",
      "3\n",
      "4\n",
      "5\n"
     ]
    }
   ],
   "source": [
    "i=1 # initializiation\n",
    "while i<=5:\n",
    "    print(i)\n",
    "    i+=1 #condition check"
   ]
  },
  {
   "cell_type": "markdown",
   "metadata": {},
   "source": [
    "## Letting the User Choose When to Quit"
   ]
  },
  {
   "cell_type": "code",
   "execution_count": 11,
   "metadata": {},
   "outputs": [],
   "source": [
    "prompt=\"\\nTell me something, and I will repeat back it to you! Enter \\'quit\\' to end the program:\""
   ]
  },
  {
   "cell_type": "code",
   "execution_count": 12,
   "metadata": {},
   "outputs": [
    {
     "name": "stdout",
     "output_type": "stream",
     "text": [
      "\n",
      "Tell me something, and I will repeat back it to you! Enter 'quit' to end the program:a\n",
      "a\n",
      "\n",
      "Tell me something, and I will repeat back it to you! Enter 'quit' to end the program:big balls lol\n",
      "big balls lol\n",
      "\n",
      "Tell me something, and I will repeat back it to you! Enter 'quit' to end the program:quit\n",
      "quit\n"
     ]
    }
   ],
   "source": [
    "message=\" \"\n",
    "while message!='quit':\n",
    "    message=input(prompt)\n",
    "    print(message)"
   ]
  },
  {
   "cell_type": "code",
   "execution_count": null,
   "metadata": {},
   "outputs": [],
   "source": []
  },
  {
   "cell_type": "code",
   "execution_count": null,
   "metadata": {},
   "outputs": [],
   "source": []
  },
  {
   "cell_type": "code",
   "execution_count": null,
   "metadata": {},
   "outputs": [],
   "source": []
  },
  {
   "cell_type": "code",
   "execution_count": null,
   "metadata": {},
   "outputs": [],
   "source": []
  },
  {
   "cell_type": "code",
   "execution_count": null,
   "metadata": {},
   "outputs": [],
   "source": []
  },
  {
   "cell_type": "code",
   "execution_count": null,
   "metadata": {},
   "outputs": [],
   "source": []
  },
  {
   "cell_type": "code",
   "execution_count": null,
   "metadata": {},
   "outputs": [],
   "source": []
  },
  {
   "cell_type": "code",
   "execution_count": null,
   "metadata": {},
   "outputs": [],
   "source": []
  },
  {
   "cell_type": "markdown",
   "metadata": {},
   "source": [
    "## A Flag"
   ]
  },
  {
   "cell_type": "markdown",
   "metadata": {
    "slideshow": {
     "slide_type": "subslide"
    }
   },
   "source": [
    "### For a program that should run only as long as many conditions are true, you can define one variable that determines whether or not the entire program is active. This variable, called a `flag`, acts as a signal to the program."
   ]
  },
  {
   "cell_type": "code",
   "execution_count": 13,
   "metadata": {},
   "outputs": [],
   "source": [
    "prompt=\"\\nTell me something, and I will repeat back it to you! Enter \\'quit\\' to end the program:\"\n"
   ]
  },
  {
   "cell_type": "code",
   "execution_count": 15,
   "metadata": {},
   "outputs": [
    {
     "name": "stdout",
     "output_type": "stream",
     "text": [
      "\n",
      "Tell me something, and I will repeat back it to you! Enter 'quit' to end the program:qqqqq\n",
      "qqqqq\n",
      "\n",
      "Tell me something, and I will repeat back it to you! Enter 'quit' to end the program:quito\n",
      "quito\n",
      "\n",
      "Tell me something, and I will repeat back it to you! Enter 'quit' to end the program:among su\n",
      "among su\n",
      "\n",
      "Tell me something, and I will repeat back it to you! Enter 'quit' to end the program:us\n",
      "us\n",
      "\n",
      "Tell me something, and I will repeat back it to you! Enter 'quit' to end the program:quit\n"
     ]
    }
   ],
   "source": [
    "# flag has two cases True or False\n",
    "message=\" \"\n",
    "active=True\n",
    "while active:\n",
    "    message=input(prompt)\n",
    "    if message=='quit':\n",
    "        active=False\n",
    "    else:\n",
    "        print(message)"
   ]
  },
  {
   "cell_type": "markdown",
   "metadata": {},
   "source": [
    "## Using break to Exit a Loop\n",
    "To exit a while loop immediately without running any remaining code in the\n",
    "loop, regardless of the results of any conditional test, use the break statement."
   ]
  },
  {
   "cell_type": "code",
   "execution_count": 18,
   "metadata": {},
   "outputs": [
    {
     "name": "stdout",
     "output_type": "stream",
     "text": [
      "\n",
      "Enter name of the cities you want to visit. Enter 'quit' to exit.en12\n",
      "I would love to visit En12!\n",
      "\n",
      "Enter name of the cities you want to visit. Enter 'quit' to exit.quit\n"
     ]
    }
   ],
   "source": [
    "prompt=\"\\nEnter name of the cities you want to visit. Enter \\'quit\\' to exit.\"\n",
    "city=\" \"\n",
    "active=True\n",
    "while active:\n",
    "    city=input(prompt)\n",
    "    if city=='quit':\n",
    "        break\n",
    "    else: \n",
    "        print(\"I would love to visit \"+ city.title()+ \"!\")"
   ]
  },
  {
   "cell_type": "code",
   "execution_count": null,
   "metadata": {},
   "outputs": [],
   "source": []
  },
  {
   "cell_type": "markdown",
   "metadata": {},
   "source": [
    "### Guess the number"
   ]
  },
  {
   "cell_type": "code",
   "execution_count": 19,
   "metadata": {},
   "outputs": [
    {
     "name": "stdout",
     "output_type": "stream",
     "text": [
      "\n",
      "Guess a number in between 1 and 108\n",
      "not the right number. try again.\n",
      "\n",
      "Guess a number in between 1 and 1019\n",
      "not the right number. try again.\n",
      "\n",
      "Guess a number in between 1 and 101\n",
      "not the right number. try again.\n",
      "\n",
      "Guess a number in between 1 and 106\n",
      "YOU HAVE GUESSED CORRECTLY!\n"
     ]
    }
   ],
   "source": [
    "prompt=\"\\nGuess a number in between 1 and 10\"\n",
    "number=0\n",
    "active=True\n",
    "while active:\n",
    "    number=int(input(prompt))\n",
    "    if number==6:\n",
    "        print(\"YOU HAVE GUESSED CORRECTLY!\")\n",
    "        break\n",
    "    else:\n",
    "        print(\"not the right number. try again.\")"
   ]
  },
  {
   "cell_type": "code",
   "execution_count": null,
   "metadata": {},
   "outputs": [],
   "source": []
  },
  {
   "cell_type": "markdown",
   "metadata": {},
   "source": [
    "### Guess the number with proper direction"
   ]
  },
  {
   "cell_type": "code",
   "execution_count": 25,
   "metadata": {},
   "outputs": [
    {
     "name": "stdout",
     "output_type": "stream",
     "text": [
      "\n",
      "Guess a number in between 1 and 20: 191\n",
      "please choose a number in the range\n",
      "\n",
      "Guess a number in between 1 and 20: -1\n",
      "please choose a number in the range\n",
      "\n",
      "Guess a number in between 1 and 20: 92\n",
      "please choose a number in the range\n",
      "\n",
      "Guess a number in between 1 and 20: 20.1\n"
     ]
    },
    {
     "ename": "ValueError",
     "evalue": "invalid literal for int() with base 10: '20.1'",
     "output_type": "error",
     "traceback": [
      "\u001b[1;31m---------------------------------------------------------------------------\u001b[0m",
      "\u001b[1;31mValueError\u001b[0m                                Traceback (most recent call last)",
      "\u001b[1;32m~\\AppData\\Local\\Temp\\ipykernel_12160\\3457466647.py\u001b[0m in \u001b[0;36m<module>\u001b[1;34m\u001b[0m\n\u001b[0;32m      3\u001b[0m \u001b[0mactive\u001b[0m\u001b[1;33m=\u001b[0m\u001b[1;32mTrue\u001b[0m\u001b[1;33m\u001b[0m\u001b[1;33m\u001b[0m\u001b[0m\n\u001b[0;32m      4\u001b[0m \u001b[1;32mwhile\u001b[0m \u001b[0mactive\u001b[0m\u001b[1;33m:\u001b[0m\u001b[1;33m\u001b[0m\u001b[1;33m\u001b[0m\u001b[0m\n\u001b[1;32m----> 5\u001b[1;33m     \u001b[0mnumbernew\u001b[0m\u001b[1;33m=\u001b[0m\u001b[0mint\u001b[0m\u001b[1;33m(\u001b[0m\u001b[0minput\u001b[0m\u001b[1;33m(\u001b[0m\u001b[0mprompt\u001b[0m\u001b[1;33m)\u001b[0m\u001b[1;33m)\u001b[0m\u001b[1;33m\u001b[0m\u001b[1;33m\u001b[0m\u001b[0m\n\u001b[0m\u001b[0;32m      6\u001b[0m     \u001b[1;32mif\u001b[0m \u001b[0mnumbernew\u001b[0m\u001b[1;33m<\u001b[0m\u001b[1;36m1\u001b[0m \u001b[1;32mor\u001b[0m \u001b[0mnumbernew\u001b[0m\u001b[1;33m>\u001b[0m\u001b[1;36m20\u001b[0m\u001b[1;33m:\u001b[0m\u001b[1;33m\u001b[0m\u001b[1;33m\u001b[0m\u001b[0m\n\u001b[0;32m      7\u001b[0m         \u001b[0mprint\u001b[0m\u001b[1;33m(\u001b[0m\u001b[1;34m\"please choose a number in the range\"\u001b[0m\u001b[1;33m)\u001b[0m\u001b[1;33m\u001b[0m\u001b[1;33m\u001b[0m\u001b[0m\n",
      "\u001b[1;31mValueError\u001b[0m: invalid literal for int() with base 10: '20.1'"
     ]
    }
   ],
   "source": [
    "prompt=\"\\nGuess a number in between 1 and 20: \"\n",
    "numbernew=0\n",
    "active=True\n",
    "while active:\n",
    "    numbernew=int(input(prompt))\n",
    "    if numbernew<1 or numbernew>20:\n",
    "        print(\"please choose a number in the range\")\n",
    "    elif numbernew==6:\n",
    "        print(\"YOU HAVE GUESSED CORRECTLY!\")\n",
    "        break\n",
    "        \n",
    "    elif numbernew<6:\n",
    "        print(\"Guess a number larger than current guess\")\n",
    "   \n",
    "    else:\n",
    "        print(\"Guess a number smaller than current guess\")"
   ]
  },
  {
   "cell_type": "code",
   "execution_count": null,
   "metadata": {},
   "outputs": [],
   "source": []
  },
  {
   "cell_type": "markdown",
   "metadata": {},
   "source": [
    "### Break with for loop"
   ]
  },
  {
   "cell_type": "code",
   "execution_count": 30,
   "metadata": {},
   "outputs": [
    {
     "name": "stdout",
     "output_type": "stream",
     "text": [
      "1 2 3 4 5 6 7 8 9 10 11 12 13 14 15 16 17 18 19 20 21 22 23 24 25 26 27 28 29 30 31 32 33 34 35 36 37 38 39 "
     ]
    }
   ],
   "source": [
    "#we are printing all of the numbers between 0 to 100 and the loop will break at 40\n",
    "for number in range(1,100):\n",
    "    if number==40:\n",
    "        break\n",
    "    print(number, end=\" \")"
   ]
  },
  {
   "cell_type": "code",
   "execution_count": null,
   "metadata": {},
   "outputs": [],
   "source": []
  },
  {
   "cell_type": "markdown",
   "metadata": {},
   "source": [
    "### Using continue in a Loop\n",
    "- Rather than breaking out of a loop entirely without executing the rest of its code, \n",
    "- you can use the continue statement to return to the beginning of the loop based on the result of a conditional test. \n",
    "- For example, consider a loop that counts from 1 to 10 but prints only the odd numbers in that range:"
   ]
  },
  {
   "cell_type": "code",
   "execution_count": 34,
   "metadata": {},
   "outputs": [
    {
     "name": "stdout",
     "output_type": "stream",
     "text": [
      "1 3 5 7 9 11 "
     ]
    }
   ],
   "source": [
    "number=0\n",
    "while number<=10:\n",
    "    number+=1\n",
    "    if number%2==0:\n",
    "        continue\n",
    "    print(number, end=\" \")\n",
    "    "
   ]
  },
  {
   "cell_type": "code",
   "execution_count": 35,
   "metadata": {},
   "outputs": [
    {
     "name": "stdout",
     "output_type": "stream",
     "text": [
      "10\n",
      "12\n",
      "14\n",
      "16\n",
      "18\n"
     ]
    }
   ],
   "source": [
    "for number in range (10,20):\n",
    "    if number%2!=0:  #if the number is odd then continue or dont print the number\n",
    "        continue\n",
    "    print(number)"
   ]
  },
  {
   "cell_type": "markdown",
   "metadata": {},
   "source": [
    "### consider a loop (while/for) that counts from 10 to 20 but prints only the even numbers in that range, use continue statement:"
   ]
  },
  {
   "cell_type": "code",
   "execution_count": null,
   "metadata": {},
   "outputs": [],
   "source": []
  },
  {
   "cell_type": "code",
   "execution_count": null,
   "metadata": {},
   "outputs": [],
   "source": []
  },
  {
   "cell_type": "markdown",
   "metadata": {},
   "source": [
    "### Avoiding Infinite Loops"
   ]
  },
  {
   "cell_type": "code",
   "execution_count": null,
   "metadata": {},
   "outputs": [],
   "source": []
  },
  {
   "cell_type": "code",
   "execution_count": null,
   "metadata": {},
   "outputs": [],
   "source": []
  },
  {
   "cell_type": "markdown",
   "metadata": {},
   "source": [
    "### Movie Tickets: A movie theater charges different ticket prices depending on a person’s age. \n",
    "- If a person is under the age of 3, the ticket is free; if they are between 3 and 12, the ticket is 10 dollar\n",
    "- if they are over age 12, the ticket is 15 dollar. \n",
    "Write a while loop in which you ask users their age, and then tell them the cost of their movie ticket."
   ]
  },
  {
   "cell_type": "code",
   "execution_count": 1,
   "metadata": {},
   "outputs": [
    {
     "name": "stdout",
     "output_type": "stream",
     "text": [
      "Enter your age:10\n",
      "The entry is 10 dollars for you\n",
      "Enter your age:40\n",
      "The ticket price is 15 dollars\n",
      "Enter your age:12\n",
      "The entry is 10 dollars for you\n",
      "Enter your age:2\n",
      "The entry is free for you\n",
      "Enter your age:0\n",
      "The entry is free for you\n",
      "Enter your age:-1\n"
     ]
    }
   ],
   "source": [
    "prompt=\"How old are you? Enter -1 to quit\"\n",
    "while True:\n",
    "    age=int(input(\"Enter your age:\"))\n",
    "    if age==-1: \n",
    "        break\n",
    "    elif age<3:\n",
    "        print(\"The entry is free for you\")\n",
    "    elif age<13:\n",
    "        print(\"The entry is 10 dollars for you\")\n",
    "    else: \n",
    "        print(\"The ticket price is 15 dollars\")"
   ]
  },
  {
   "cell_type": "code",
   "execution_count": null,
   "metadata": {},
   "outputs": [],
   "source": []
  },
  {
   "cell_type": "markdown",
   "metadata": {},
   "source": [
    "## Using a while Loop with Lists and Dictionaries"
   ]
  },
  {
   "cell_type": "markdown",
   "metadata": {},
   "source": [
    "### Moving Items from One List to Another"
   ]
  },
  {
   "cell_type": "code",
   "execution_count": 5,
   "metadata": {},
   "outputs": [
    {
     "name": "stdout",
     "output_type": "stream",
     "text": [
      "Verifying user: Cadance\n",
      "Verifying user: Brian\n",
      "Verifying user: Alice\n",
      "The confirmed user list ['cadance', 'brian', 'alice']\n",
      "\n",
      "The following users are confirmed: \n",
      "Cadance\n",
      "Brian\n",
      "Alice\n"
     ]
    }
   ],
   "source": [
    "#moving names from unconfirmed_user to confirmed_user\n",
    "unconfirmed_user=['alice','brian','cadance']\n",
    "confirmed_user=[]\n",
    "#verify each user until no more unconfirmed users\n",
    "#move verified user into new list called confirmed user\n",
    "\n",
    "while unconfirmed_user:\n",
    "    current_user=unconfirmed_user.pop()\n",
    "    print(\"Verifying user: \"+ current_user.title())\n",
    "    confirmed_user.append(current_user)\n",
    "print(\"The confirmed user list\" , confirmed_user)\n",
    "print(\"\\nThe following users are confirmed: \")\n",
    "for name in confirmed_user:\n",
    "    print(name.title())"
   ]
  },
  {
   "cell_type": "code",
   "execution_count": null,
   "metadata": {},
   "outputs": [],
   "source": []
  },
  {
   "cell_type": "markdown",
   "metadata": {},
   "source": [
    "### Removing All Instances of Specific Values from a List"
   ]
  },
  {
   "cell_type": "code",
   "execution_count": 6,
   "metadata": {},
   "outputs": [
    {
     "name": "stdout",
     "output_type": "stream",
     "text": [
      "['dog', 'cat', 'dog', 'goldfish', 'cat', 'rabbit']\n"
     ]
    }
   ],
   "source": [
    "pets=['dog','cat','dog','goldfish','cat','rabbit']\n",
    "print(pets)\n",
    "\n"
   ]
  },
  {
   "cell_type": "code",
   "execution_count": 7,
   "metadata": {},
   "outputs": [
    {
     "name": "stdout",
     "output_type": "stream",
     "text": [
      "['dog', 'dog', 'goldfish', 'rabbit']\n"
     ]
    }
   ],
   "source": [
    "# remove all cats from list\n",
    "while 'cat' in pets:\n",
    "    pets.remove('cat')\n",
    "print(pets)"
   ]
  },
  {
   "cell_type": "markdown",
   "metadata": {},
   "source": [
    "### Filling a Dictionary with User Input"
   ]
  },
  {
   "cell_type": "code",
   "execution_count": 9,
   "metadata": {},
   "outputs": [
    {
     "name": "stdout",
     "output_type": "stream",
     "text": [
      "\n",
      "What is your name? joey\n",
      "Which country you want to visit? japan\n",
      "Would you like to add another person's response? (yes/no)ye\n",
      "\n",
      "What is your name? joey 2\n",
      "Which country you want to visit? mexico\n",
      "Would you like to add another person's response? (yes/no)yes\n",
      "\n",
      "What is your name? no\n",
      "Which country you want to visit? no\n",
      "Would you like to add another person's response? (yes/no)no\n",
      "\n",
      "---Poll result---\n",
      "joey Would like to visit japan\n",
      "joey 2 Would like to visit mexico\n",
      "no Would like to visit no\n"
     ]
    }
   ],
   "source": [
    "response_dict={}\n",
    "#flag\n",
    "polling_active= True\n",
    "while polling_active:\n",
    "    #prompt user for name(key) and response(value)\n",
    "    name=input(\"\\nWhat is your name? \")\n",
    "    response=input(\"Which country you want to visit? \")\n",
    "    response_dict[name]=response # we called dictionary[key]=value \n",
    "    \n",
    "    repeat=input(\"Would you like to add another person's response? (yes/no)\")\n",
    "    if repeat=='no':\n",
    "        polling_active= False\n",
    "# poll complete show results\n",
    "print(\"\\n---Poll result---\")\n",
    "\n",
    "for name,response in response_dict.items():\n",
    "    print(name+\" Would like to visit \"+response)\n",
    "                    "
   ]
  },
  {
   "cell_type": "code",
   "execution_count": null,
   "metadata": {},
   "outputs": [],
   "source": []
  },
  {
   "cell_type": "markdown",
   "metadata": {},
   "source": [
    "## Deli: Make a list called sandwich_orders and fill it with the names of various sandwiches. \n",
    "- Then make an empty list called finished_sandwiches. \n",
    "- Loop through the list of sandwich orders and print a message for each order, such as I made your tuna sandwich. \n",
    "- As each sandwich is made, move it to the list of finished sandwiches. \n",
    "- After all the sandwiches have been made, print a message listing each sandwich that was made."
   ]
  },
  {
   "cell_type": "code",
   "execution_count": 5,
   "metadata": {},
   "outputs": [
    {
     "name": "stdout",
     "output_type": "stream",
     "text": [
      "I made your grilled cheese\n",
      "I made your veggie sandwich\n",
      "I made your ham sandwich\n",
      "I made your meatball sandwich\n",
      "I made your tuna sandwich\n",
      "I made your Peanut butter and jelly sandwich\n",
      "I made your chicken sandwich\n",
      "['grilled cheese', 'veggie sandwich', 'ham sandwich', 'meatball sandwich', 'tuna sandwich', 'Peanut butter and jelly sandwich', 'chicken sandwich']\n",
      "i made aGrilled Cheese\n",
      "i made aVeggie Sandwich\n",
      "i made aHam Sandwich\n",
      "i made aMeatball Sandwich\n",
      "i made aTuna Sandwich\n",
      "i made aPeanut Butter And Jelly Sandwich\n",
      "i made aChicken Sandwich\n"
     ]
    }
   ],
   "source": [
    "sandwich_orders=[\"chicken sandwich\",\"Peanut butter and jelly sandwich\",\"tuna sandwich\",\"meatball sandwich\",\"ham sandwich\",\"veggie sandwich\",\"grilled cheese\"]\n",
    "finished_sandwiches=[]\n",
    "while sandwich_orders:\n",
    "    current_sandwich=sandwich_orders.pop()\n",
    "    print(\"I made your \"+ current_sandwich)\n",
    "    finished_sandwiches.append(current_sandwich)\n",
    "print(finished_sandwiches)\n",
    "\n",
    "for sandwich in finished_sandwiches:\n",
    "    print(\"i made a\"+ sandwich.title() )"
   ]
  },
  {
   "cell_type": "code",
   "execution_count": null,
   "metadata": {},
   "outputs": [],
   "source": []
  },
  {
   "cell_type": "markdown",
   "metadata": {},
   "source": [
    "## Write a program to print n natural number in descending order using a while loop.\n"
   ]
  },
  {
   "cell_type": "code",
   "execution_count": null,
   "metadata": {},
   "outputs": [],
   "source": [
    "n=int(input(\"Enter the range\": ))#10\n",
    "while(n!=0):\n",
    "    print(n, end=\" \")\n",
    "    n=n-1"
   ]
  },
  {
   "cell_type": "code",
   "execution_count": null,
   "metadata": {},
   "outputs": [],
   "source": []
  },
  {
   "cell_type": "markdown",
   "metadata": {},
   "source": [
    "## Factorial of a number"
   ]
  },
  {
   "cell_type": "code",
   "execution_count": 8,
   "metadata": {},
   "outputs": [
    {
     "name": "stdout",
     "output_type": "stream",
     "text": [
      "enter the value of n: 9\n",
      "362880\n"
     ]
    }
   ],
   "source": [
    "n=int(input(\"enter the value of n: \"))\n",
    "\n",
    "fact=1\n",
    "\n",
    "while (n):\n",
    "    fact=fact*n\n",
    "    n-=1\n",
    "print(fact)"
   ]
  },
  {
   "cell_type": "code",
   "execution_count": null,
   "metadata": {},
   "outputs": [],
   "source": []
  },
  {
   "cell_type": "markdown",
   "metadata": {},
   "source": [
    "## Take 10 integers from keyboard using loop and print their sum and average value on the screen"
   ]
  },
  {
   "cell_type": "code",
   "execution_count": 10,
   "metadata": {},
   "outputs": [
    {
     "name": "stdout",
     "output_type": "stream",
     "text": [
      "Enter a number1\n",
      "Enter a number2\n",
      "Enter a number3\n",
      "Enter a number4\n",
      "Enter a number5\n",
      "Enter a number6\n",
      "Enter a number7\n",
      "Enter a number8\n",
      "Enter a number9\n",
      "Enter a number10\n",
      "55\n",
      "5.5\n"
     ]
    }
   ],
   "source": [
    "numList=[]\n",
    "while len(numList)<10:\n",
    "    numList.append(int(input(\"Enter a number\")))\n",
    "print(sum(numList))\n",
    "averageNum=sum(numList)/len(numList)\n",
    "print(averageNum)\n"
   ]
  },
  {
   "cell_type": "markdown",
   "metadata": {},
   "source": [
    "## take 5 integers from keyyboard using loop and print their multiplication on screen\n"
   ]
  },
  {
   "cell_type": "code",
   "execution_count": 11,
   "metadata": {},
   "outputs": [
    {
     "name": "stdout",
     "output_type": "stream",
     "text": [
      "Enter a number1\n",
      "Enter a number1\n",
      "Enter a number1\n",
      "Enter a number1\n",
      "Enter a number1\n",
      "[1, 1, 1, 1, 1]\n"
     ]
    }
   ],
   "source": [
    "fiveList=[]\n",
    "while len(fiveList)<5:\n",
    "    fiveList.append(int(input(\"Enter a number\")))\n",
    "    \n",
    "print(fiveList)"
   ]
  },
  {
   "attachments": {
    "image.png": {
     "image/png": "[encoded data removed]"
    }
   },
   "cell_type": "markdown",
   "metadata": {},
   "source": [
    "## Print the following patterns using loop :\n",
    "![image.png](attachment:image.png)"
   ]
  },
  {
   "cell_type": "code",
   "execution_count": 16,
   "metadata": {},
   "outputs": [
    {
     "name": "stdout",
     "output_type": "stream",
     "text": [
      "*\n",
      "**\n",
      "***\n",
      "****\n"
     ]
    }
   ],
   "source": [
    "i=1\n",
    "while i<=4:\n",
    "    print(i * \"*\")\n",
    "    i+=1"
   ]
  },
  {
   "cell_type": "code",
   "execution_count": null,
   "metadata": {},
   "outputs": [],
   "source": []
  },
  {
   "cell_type": "markdown",
   "metadata": {},
   "source": [
    "## Write a program to display the first 7 multiples of 7.\n"
   ]
  },
  {
   "cell_type": "code",
   "execution_count": 19,
   "metadata": {},
   "outputs": [
    {
     "name": "stdout",
     "output_type": "stream",
     "text": [
      "0\n",
      "7\n",
      "14\n",
      "21\n",
      "28\n",
      "35\n",
      "42\n",
      "49\n"
     ]
    }
   ],
   "source": [
    "count=0\n",
    "\n",
    "for i in range(1000):\n",
    "    if i%7==0:\n",
    "        print(i)\n",
    "        count+=1\n",
    "        if count==8:\n",
    "            break"
   ]
  },
  {
   "cell_type": "code",
   "execution_count": null,
   "metadata": {},
   "outputs": [],
   "source": []
  },
  {
   "cell_type": "markdown",
   "metadata": {},
   "source": [
    "## Write a program that appends the square of each number to a new list."
   ]
  },
  {
   "cell_type": "code",
   "execution_count": 21,
   "metadata": {},
   "outputs": [
    {
     "name": "stdout",
     "output_type": "stream",
     "text": [
      "Result [1, 4, 9, 16, 25]\n"
     ]
    }
   ],
   "source": [
    "x=[1,2,3,4,5]\n",
    "z=[]\n",
    "for i in range(len(x)):\n",
    "    z.append(x[i]**2)\n",
    "   # print(z)\n",
    "    #i is controlling the index\n",
    "print(\"Result\", z)"
   ]
  },
  {
   "cell_type": "code",
   "execution_count": null,
   "metadata": {},
   "outputs": [],
   "source": []
  },
  {
   "cell_type": "markdown",
   "metadata": {},
   "source": [
    "## Separate positive and negative number from a list.\n",
    "x = [23,12,-4,23,-9,21,3,-45,-8]"
   ]
  },
  {
   "cell_type": "code",
   "execution_count": 23,
   "metadata": {},
   "outputs": [
    {
     "name": "stdout",
     "output_type": "stream",
     "text": [
      "[23, 12, 23, 21, 3]\n",
      "[-4, -9, -45, -8]\n"
     ]
    }
   ],
   "source": [
    "x = [23,12,-4,23,-9,21,3,-45,-8]\n",
    "positiveList=[]\n",
    "negativeList=[]\n",
    "for i in x:\n",
    "    if(i<0):\n",
    "        negativeList.append(i)\n",
    "    elif(i>0):\n",
    "        positiveList.append(i)\n",
    "print(positiveList)\n",
    "print(negativeList)"
   ]
  },
  {
   "cell_type": "code",
   "execution_count": null,
   "metadata": {},
   "outputs": [],
   "source": []
  }
 ],
 "metadata": {
  "celltoolbar": "Slideshow",
  "kernelspec": {
   "display_name": "Python 3 (ipykernel)",
   "language": "python",
   "name": "python3"
  },
  "language_info": {
   "codemirror_mode": {
    "name": "ipython",
    "version": 3
   },
   "file_extension": ".py",
   "mimetype": "text/x-python",
   "name": "python",
   "nbconvert_exporter": "python",
   "pygments_lexer": "ipython3",
   "version": "3.9.13"
  }
 },
 "nbformat": 4,
 "nbformat_minor": 2
}
